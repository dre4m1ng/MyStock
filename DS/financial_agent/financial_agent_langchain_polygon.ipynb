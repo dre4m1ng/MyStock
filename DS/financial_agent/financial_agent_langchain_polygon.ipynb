{
  "nbformat": 4,
  "nbformat_minor": 0,
  "metadata": {
    "colab": {
      "provenance": []
    },
    "kernelspec": {
      "name": "python3",
      "display_name": "Python 3"
    },
    "language_info": {
      "name": "python"
    }
  },
  "cells": [
    {
      "cell_type": "code",
      "execution_count": null,
      "metadata": {
        "id": "GcvSoNAmVbXH"
      },
      "outputs": [],
      "source": [
        "!pip install -U langgraph langchain langchain_openai langchainhub\n",
        "!pip install -U polygon-api-client"
      ]
    },
    {
      "cell_type": "code",
      "source": [
        "import getpass\n",
        "import os\n",
        "\n",
        "# Set your OpenAI API key\n",
        "os.environ[\"OPENAI_API_KEY\"] = getpass.getpass()"
      ],
      "metadata": {
        "id": "aw9453mxY2GZ"
      },
      "execution_count": null,
      "outputs": []
    },
    {
      "cell_type": "code",
      "source": [
        "os.environ[\"POLYGON_API_KEY\"] = getpass.getpass()"
      ],
      "metadata": {
        "id": "wLgG34qXylsg"
      },
      "execution_count": null,
      "outputs": []
    },
    {
      "cell_type": "code",
      "source": [
        "from langchain import hub\n",
        "from langchain.agents import create_openai_functions_agent\n",
        "from langchain_openai.chat_models import ChatOpenAI\n",
        "from langchain_community.utilities.polygon import PolygonAPIWrapper\n",
        "from langchain_community.tools import PolygonLastQuote, PolygonTickerNews, PolygonFinancials\n",
        "\n",
        "# Use default prompt\n",
        "prompt = hub.pull(\"hwchase17/openai-functions-agent\")\n",
        "\n",
        "# Choose the LLM that will drive the agent\n",
        "llm = ChatOpenAI(model=\"gpt-4-0125-preview\")\n",
        "\n",
        "# Create the tools\n",
        "polygon = PolygonAPIWrapper()\n",
        "tools = [\n",
        "    PolygonLastQuote(api_wrapper=polygon),\n",
        "    PolygonTickerNews(api_wrapper=polygon),\n",
        "    PolygonFinancials(api_wrapper=polygon),\n",
        "  ]\n",
        "\n",
        "agent_runnable = create_openai_functions_agent(llm, tools, prompt)"
      ],
      "metadata": {
        "id": "mczr2sUEVdYv"
      },
      "execution_count": null,
      "outputs": []
    },
    {
      "cell_type": "code",
      "source": [
        "from langchain_core.runnables import RunnablePassthrough\n",
        "from langchain_core.agents import AgentFinish\n",
        "\n",
        "\n",
        "# Define the agent\n",
        "agent = RunnablePassthrough.assign(\n",
        "    agent_outcome = agent_runnable\n",
        ")\n",
        "\n",
        "# Define the function to execute tools\n",
        "def execute_tools(data):\n",
        "    agent_action = data.pop('agent_outcome')\n",
        "    tool_to_use = {t.name: t for t in tools}[agent_action.tool]\n",
        "    observation = tool_to_use.invoke(agent_action.tool_input)\n",
        "    data['intermediate_steps'].append((agent_action, observation))\n",
        "    return data\n",
        "\n",
        "# Define logic that will be used to determine which conditional edge to go down\n",
        "def should_continue(data):\n",
        "    if isinstance(data['agent_outcome'], AgentFinish):\n",
        "        return \"exit\"\n",
        "    else:\n",
        "        return \"continue\""
      ],
      "metadata": {
        "id": "nTW70qJEV6-A"
      },
      "execution_count": null,
      "outputs": []
    },
    {
      "cell_type": "code",
      "source": [
        "from langgraph.graph import END, Graph\n",
        "\n",
        "workflow = Graph()\n",
        "\n",
        "workflow.add_node(\"agent\", agent)\n",
        "workflow.add_node(\"tools\", execute_tools)\n",
        "\n",
        "# Set the entrypoint\n",
        "workflow.set_entry_point(\"agent\")\n",
        "\n",
        "workflow.add_conditional_edges(\n",
        "    \"agent\",\n",
        "    should_continue,\n",
        "    {\n",
        "        \"continue\": \"tools\",\n",
        "        \"exit\": END\n",
        "    }\n",
        ")\n",
        "workflow.add_edge('tools', 'agent')\n",
        "\n",
        "\n",
        "\n",
        "# This compiles it into a LangChain Runnable,\n",
        "# meaning we can use it as you would any other runnable\n",
        "chain = workflow.compile()"
      ],
      "metadata": {
        "id": "xK5euZ6UWAhq"
      },
      "execution_count": null,
      "outputs": []
    },
    {
      "cell_type": "code",
      "source": [
        "result = chain.invoke({\"input\": \"What is ABNB's latest net income and when is that from?\", \"intermediate_steps\": []})\n",
        "output = result['agent_outcome'].return_values[\"output\"]\n",
        "print(output)"
      ],
      "metadata": {
        "colab": {
          "base_uri": "https://localhost:8080/"
        },
        "id": "kBwr25yAWDVB",
        "outputId": "ed1bdd92-c0d1-4b1e-970a-88b0046acb58"
      },
      "execution_count": null,
      "outputs": [
        {
          "output_type": "stream",
          "name": "stdout",
          "text": [
            "The latest net income for Airbnb, Inc. (ABNB) is $4,792,000,000 USD for the fiscal year of 2023. This information is based on their annual financial report filed on February 16, 2024.\n"
          ]
        }
      ]
    },
    {
      "cell_type": "code",
      "source": [],
      "metadata": {
        "id": "wvP2oZRokMwo"
      },
      "execution_count": null,
      "outputs": []
    }
  ]
}