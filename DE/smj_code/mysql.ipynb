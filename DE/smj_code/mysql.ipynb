{
 "cells": [
  {
   "cell_type": "code",
   "execution_count": 1,
   "metadata": {},
   "outputs": [],
   "source": [
    "import pymongo\n",
    "from pymongo import MongoClient\n",
    "import yaml\n",
    "import pandas as pd\n",
    "import pprint\n",
    "import json\n",
    "import pymysql\n",
    "import time"
   ]
  },
  {
   "cell_type": "code",
   "execution_count": 2,
   "metadata": {},
   "outputs": [],
   "source": [
    "with open('C:/Users/cc843/Desktop/辛旻宗/주식프로젝트/key/config.yaml', encoding='UTF-8') as f:\n",
    "    _cfg = yaml.load(f, Loader=yaml.FullLoader)\n",
    "APP_KEY = _cfg['APP_KEY']\n",
    "APP_SECRET = _cfg['APP_SECRET']\n",
    "ACCESS_TOKEN = \"\"\n",
    "CANO = _cfg['CANO']\n",
    "ACNT_PRDT_CD = _cfg['ACNT_PRDT_CD']\n",
    "DISCORD_WEBHOOK_URL = _cfg['DISCORD_WEBHOOK_URL']\n",
    "URL_BASE = _cfg['URL_BASE']\n",
    "MONGO_client = _cfg['mongodb']\n",
    "db_host = _cfg['host']\n",
    "password = _cfg['password']"
   ]
  },
  {
   "cell_type": "code",
   "execution_count": 3,
   "metadata": {},
   "outputs": [],
   "source": [
    "# 몽고 db설정\n",
    "client = pymongo.MongoClient(MONGO_client)\n",
    "db = client[\"root\"]  # db이름\n",
    "users_collection = db[\"stock\"]  # 폴더이름\n",
    "\n",
    "query = {\n",
    "    \"output1.hts_kor_isnm\": \"삼성전자\",\n",
    "    \"output2.stck_bsop_date\": {\"$exists\": True}\n",
    "}"
   ]
  },
  {
   "cell_type": "code",
   "execution_count": 4,
   "metadata": {},
   "outputs": [],
   "source": [
    "cursor = users_collection.find(query)\n",
    "\n",
    "# 결과를 데이터프레임으로 변환할 리스트 초기화\n",
    "df_list = []\n",
    "# 중복되서 지워야되는 컬럼\n",
    "drop_columns = ['prdy_vrss_sign','prdy_vrss', 'stck_oprc', 'stck_hgpr', 'stck_lwpr', 'acml_vol', 'acml_tr_pbmn']\n",
    "\n",
    "for data in cursor:\n",
    "    # output1과 output2를 각각 데이터프레임으로 변환\n",
    "    output1_df = pd.DataFrame(data['output1'], index=[0])\n",
    "    output1_df.drop(drop_columns, axis=1, inplace=True)\n",
    "    output2_df = pd.DataFrame(data['output2'])\n",
    "    \n",
    "    # 기존 데이터와 output1, output2 데이터를 합치고 필요없는 열을 제거하여 데이터프레임 생성\n",
    "    result_df = pd.concat([pd.DataFrame(data, index=[0]), output1_df, output2_df], axis=1)\n",
    "    result_df = result_df.drop(columns=['output1', 'output2','msg_cd','msg1','rt_cd','_id'])\n",
    "    \n",
    "    # df_list에 추가\n",
    "    df_list.append(result_df)\n",
    "\n",
    "# 데이터프레임으로 변환\n",
    "final_df = pd.concat(df_list, ignore_index=True)\n",
    "final_df.rename(columns={'itewhol_loan_rmnd_ratem name': 'itewhol_loan_rmnd_ratem'}, inplace=True)"
   ]
  },
  {
   "cell_type": "code",
   "execution_count": 5,
   "metadata": {},
   "outputs": [
    {
     "name": "stdout",
     "output_type": "stream",
     "text": [
      "508\n"
     ]
    }
   ],
   "source": [
    "insert_num = (len(final_df))"
   ]
  },
  {
   "cell_type": "code",
   "execution_count": 7,
   "metadata": {},
   "outputs": [],
   "source": [
    "conn = pymysql.connect(host=db_host, user='root', password=password, database='Mystock')\n",
    "cursor = conn.cursor()"
   ]
  },
  {
   "cell_type": "code",
   "execution_count": 15,
   "metadata": {},
   "outputs": [
    {
     "name": "stdout",
     "output_type": "stream",
     "text": [
      "508\n"
     ]
    }
   ],
   "source": [
    "star_num = cursor.execute(\"SELECT id FROM stock_data\")\n"
   ]
  },
  {
   "cell_type": "code",
   "execution_count": 7,
   "metadata": {},
   "outputs": [
    {
     "name": "stdout",
     "output_type": "stream",
     "text": [
      "MySQL 서버에 연결되었습니다.\n",
      "데이터 삽입 완료.\n",
      "1\n",
      "MySQL 연결 종료.\n"
     ]
    }
   ],
   "source": [
    "# 데이터베이스 연결\n",
    "try:\n",
    "    conn = pymysql.connect(host=db_host, user='root', password=password, database='Mystock')\n",
    "    print(\"MySQL 서버에 연결되었습니다.\")\n",
    "except pymysql.err.OperationalError as e:\n",
    "    print(f\"MySQL 연결 오류: {e}\")\n",
    "    exit()\n",
    "\n",
    "# 커서 생성\n",
    "cursor = conn.cursor()\n",
    "last_id = cursor.lastrowid\n",
    "# 테이블 이름 설정\n",
    "table_name = \"stock_data\"\n",
    "\n",
    "# 데이터프레임 열 이름을 컬럼 리스트로 변환\n",
    "columns = ', '.join(final_df.columns)\n",
    "\n",
    "# 데이터 삽입\n",
    "for index, row in final_df.iterrows():\n",
    "    # VALUES 부분을 동적으로 생성\n",
    "    values = ', '.join(['%s'] * len(row))\n",
    "\n",
    "    # SQL 쿼리 생성\n",
    "    sql = f\"INSERT INTO {table_name} ({columns}) VALUES ({values})\"\n",
    "\n",
    "    # 행의 값들을 튜플로 변환하여 쿼리 실행\n",
    "    cursor.execute(sql, tuple(row))\n",
    "    \n",
    "    time.sleep(0.2)\n",
    "\n",
    "# 변경 내용 커밋\n",
    "conn.commit()\n",
    "\n",
    "# 쿼리 성공 여부 확인\n",
    "if cursor.rowcount > 0:\n",
    "    print(\"데이터 삽입 완료.\")\n",
    "    print(cursor.rowcount)\n",
    "else:\n",
    "    print(\"데이터 삽입 실패.\")\n",
    "end_num = cursor.execute(\"SELECT id FROM stock_data\")\n",
    "# 커서 및 연결 종료\n",
    "cursor.close()\n",
    "conn.close()\n",
    "\n",
    "print(\"MySQL 연결 종료.\")\n",
    "\n",
    "# 검수\n",
    "\n",
    "if insert_num == (end_num-star_num+1):\n",
    "    print(\"무결성 확인\")\n",
    "elif insert_num > (end_num-star_num+1):\n",
    "    print(\"데이터 부족\")\n",
    "else:\n",
    "    print(\"데이터 중복\")"
   ]
  }
 ],
 "metadata": {
  "kernelspec": {
   "display_name": "Python 3",
   "language": "python",
   "name": "python3"
  },
  "language_info": {
   "codemirror_mode": {
    "name": "ipython",
    "version": 3
   },
   "file_extension": ".py",
   "mimetype": "text/x-python",
   "name": "python",
   "nbconvert_exporter": "python",
   "pygments_lexer": "ipython3",
   "version": "3.10.11"
  }
 },
 "nbformat": 4,
 "nbformat_minor": 2
}
